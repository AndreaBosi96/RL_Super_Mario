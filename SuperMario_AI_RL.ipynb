{
 "cells": [
  {
   "cell_type": "markdown",
   "metadata": {},
   "source": [
    "# 0. Install and import what we need"
   ]
  },
  {
   "cell_type": "code",
   "execution_count": null,
   "metadata": {},
   "outputs": [],
   "source": [
    "# Install Gym --> this is how we can play Mario using python!\n",
    "%pip install gym_super_mario_bros==7.3.0\n",
    "# Let's install also the nes emulator in order to be able to play the game\n",
    "%pip install nes_py\n",
    "# Install PyTorch\n",
    "# CARE: PyTorch is still not available for python >= 3.10! I will therefore use and suggest to use version 3.9.10 of python \n",
    "%pip install torch==1.10.1+cu113 torchvision==0.11.2+cu113 torchaudio===0.10.1+cu113 -f https://download.pytorch.org/whl/cu113/torch_stable.html\n",
    "# Install stable baselines for RL stuff\n",
    "%pip install stable-baselines3[extra]"
   ]
  },
  {
   "cell_type": "markdown",
   "metadata": {},
   "source": [
    "### What is Gym?\n",
    "\n",
    "https://gym.openai.com/\n",
    "<br>\n",
    "https://gym.openai.com/docs/\n",
    "<br>\n",
    "\n",
    "\n",
    "___\"Gym is a toolkit for developing and comparing reinforcement learning algorithms. It supports teaching agents everything from walking to playing games like Pong or Pinball.\n",
    "<br>\n",
    "The gym library is a collection of test problems — environments — that you can use to work out your reinforcement learning algorithms. These environments have a shared interface, allowing you to write general algorithms.\"___\n",
    "<br>\n",
    "\n",
    "### Let's check the Mario Gym\n",
    "https://pypi.org/project/gym-super-mario-bros/\n",
    "<br>\n",
    "\n",
    "ACTIONS. By default, gym_super_mario_bros environments use the full NES action space of 256 discrete actions. To contstrain this, gym_super_mario_bros.actions provides three actions lists (RIGHT_ONLY, SIMPLE_MOVEMENT, and COMPLEX_MOVEMENT) for the nes_py.wrappers.JoypadSpace wrapper. We'll use the simple_movements: [['NOOP'], ['right'], ['right', 'A'], ['right', 'B'], ['right', 'A', 'B'], ['A'], ['left']] with only 7 actions that the AI can perform. Why? Because the standard version of the action list for the NES has 256 possible combinations of buttons, and many of them are compltely useless. It would take out AI a ton of time to learn how to play with so many possibilities, thus it is much better to only consider the 7 options that we saw previously.\n",
    "<br>\n",
    "\n",
    "ENVIRONMENTS. They allow 3 attempts (lives) to make it through the 32 stages in the game. The environments only send reward-able game-play frames to agents. No cut-scenes, loading screens, etc. are sent from the NES emulator to an agent nor can an agent perform actions during these instances. If a cut-scene is not able to be skipped by hacking the NES's RAM, the environment will lock the Python process until the emulator is ready for the next action. The template is __SuperMarioBros\"gameversion\"-\"world\"-\"stage\"-v\"version\"__ where world is a number in {1, 2, 3, 4, 5, 6, 7, 8} indicating the world; stage is a number in {1, 2, 3, 4} indicating the stage within a world; version is a number in {0, 1, 2, 3} specifying the ROM mode to use in {0: standard ROM, 1: downsampled ROM, 2: pixel ROM, 3: rectangle ROM}. Many of these parameters are optional.\n",
    "<br>\n",
    "\n",
    "REWARD. The reward function assumes the objective of the game is to move as far right as possible (increase the agent's x value), as fast as possible, without dying. Three components: position of the agent between states, difference in the game clock between frames, death penalty that penalizes the agent for dying in a state.\n",
    "<br>\n",
    "\n",
    "STEP. The idea is that we will go through a big number of frames - each time that something on the screen changes the frame will change. For every single frame, our AI will do something, using the step method of the environment. We can specify what the AI should do, let the AI learn what to do, or choose a random action to perform."
   ]
  },
  {
   "cell_type": "markdown",
   "metadata": {},
   "source": [
    "### Something about PyTorch\n",
    "https://pytorch.org/\n",
    "<br>\n",
    "We all know PyTorch, but since this is a first approach to AI applied to learning games, I'd like to spend some words about it. \n",
    "<br>\n",
    "<br>\n",
    "___\"An open source machine learning framework that accelerates the path from research prototyping to production deployment.\"___\n",
    "<br>\n",
    "<br>\n",
    "An interesting feature is the possibility to train models using the GPU(s). The linear algebra operations are done in parallel on the GPU and therefore you can achieve around 100x decrease in training time. Needless to mention, but it is also an option to perform training on multiple GPUs, which would once again decrease training time. Since we installed the \"cuda\" version, we have the possibility to train using the GPU of our machine."
   ]
  },
  {
   "cell_type": "markdown",
   "metadata": {},
   "source": [
    "### What is reinforcement learning?\n",
    "___\"Reinforcement learning is an area of Machine Learning. It is about taking suitable action to maximize reward in a particular situation. It is employed by various software and machines to find the best possible behavior or path it should take in a specific situation.\"___\n",
    "<br>\n",
    "<br>\n",
    "Using other words, Reinforcement learning is a machine learning training method based on rewarding desired behaviors and/or punishing undesired ones. \n",
    "<br>\n",
    "In general, a reinforcement learning agent is able to perceive and interpret its environment, take actions and learn through trial and error. In reinforcement learning, developers devise a method of rewarding desired behaviors and punishing negative behaviors. This method assigns positive values to the desired actions to encourage the agent and negative values to undesired behaviors. This programs the agent to seek long-term and maximum overall reward to achieve an optimal solution. These long-term goals help prevent the agent from stalling on lesser goals. With time, the agent learns to avoid the negative and seek the positive.\n",
    "<br><br>\n",
    "RL takes a different approach from supervised/unsupervised learning. It situates an agent in an environment with clear parameters defining beneficial activity and nonbeneficial activity and an overarching endgame to reach. It is similar in some ways to supervised learning in that developers must give algorithms clearly specified goals and define rewards and punishments. This means the level of explicit programming required is greater than in unsupervised learning. But, once these parameters are set, the algorithm operates on its own, making it much more self-directed than supervised learning algorithms. For this reason, people sometimes refer to reinforcement learning as a branch of semisupervised learning, but in truth, it is most often acknowledged as its own type of machine learning.\n",
    "<br><br>\n",
    "The elements of a RL model are the following ones:\n",
    "- Agent: it's Mario, that performs the actions and which moves through different states.\n",
    "- Actions: what Mario can do to get from one state to an other one.\n",
    "- Reward function: each state is associated with a reward function. \n",
    "- Environment: the \"wrapper\" of our AI model. In this case, it is the Super Mario emulated game.\n",
    "- Training: The training is based upon the input, The model will return a state and the user will decide to reward or punish the model based on its output.\n",
    "- The best solution is decided based on the maximum reward.\n"
   ]
  },
  {
   "cell_type": "markdown",
   "metadata": {},
   "source": [
    "### And what about StableBaseline?\n",
    "https://stable-baselines3.readthedocs.io/en/master/\n",
    "<br>\n",
    "https://openai.com/blog/openai-baselines-ppo/#:~:text=PPO%20has%20become%20the%20default,of%20use%20and%20good%20performance.&text=They%20also%20often%20have%20very,timesteps%20to%20learn%20simple%20tasks.\n",
    "<br><br>\n",
    "___Stable Baselines3 (SB3) is a set of reliable implementations of reinforcement learning algorithms in PyTorch.___\n",
    "<br>\n",
    "There are different functions/methods that the library provids: we will use the PPO algorithm. Why? Because it is simple!\n",
    "<br>\n",
    "___\"PPO has become the default reinforcement learning algorithm at OpenAI because of its ease of use and good performance.\"___"
   ]
  },
  {
   "cell_type": "code",
   "execution_count": 1,
   "metadata": {},
   "outputs": [],
   "source": [
    "# Import the game (Gym Mario)\n",
    "import gym_super_mario_bros\n",
    "# Import the Joypad wrapper\n",
    "# https://pypi.org/project/nes-py/\n",
    "# https://github.com/Kautenja/nes-py/wiki/Wrappers\n",
    "from nes_py.wrappers import JoypadSpace\n",
    "# Import the simplified version of the nes controls\n",
    "from gym_super_mario_bros.actions import SIMPLE_MOVEMENT\n",
    "# Import GrayScaling Wrapper for preprocesing\n",
    "from gym.wrappers import GrayScaleObservation\n",
    "# Import Vectorization Wrappers or preprocesing\n",
    "from stable_baselines3.common.vec_env import VecFrameStack, DummyVecEnv\n",
    "# Import Matplotlib to show frames\n",
    "from matplotlib import pyplot as plt\n",
    "# Import os for file management \n",
    "import os \n",
    "# Import PPO for algos\n",
    "from stable_baselines3 import PPO\n",
    "# Import Base Callback for saving models\n",
    "from stable_baselines3.common.callbacks import BaseCallback"
   ]
  },
  {
   "cell_type": "markdown",
   "metadata": {},
   "source": [
    "# 1. Setting up our Nes Mario Game"
   ]
  },
  {
   "cell_type": "code",
   "execution_count": 2,
   "metadata": {},
   "outputs": [],
   "source": [
    "# Create the gaming environment\n",
    "env = gym_super_mario_bros.make('SuperMarioBros-v0')\n",
    "# Restrict the possible input from the AI to the SIMPLE_MOVEMENT actions list. \n",
    "env = JoypadSpace(env, SIMPLE_MOVEMENT)"
   ]
  },
  {
   "cell_type": "code",
   "execution_count": 3,
   "metadata": {},
   "outputs": [
    {
     "name": "stdout",
     "output_type": "stream",
     "text": [
      "Observations will be  framse: colored images of 240x256 pixels through 3 channels: (240, 256, 3)\n",
      "How many actions? Discrete(7)\n",
      "Simple movement actions list: [['NOOP'], ['right'], ['right', 'A'], ['right', 'B'], ['right', 'A', 'B'], ['A'], ['left']]\n",
      "Random action index: 2\n",
      "Random action: ['right', 'A']\n"
     ]
    }
   ],
   "source": [
    "# What is it that we will get back from our AI? Observations, in a game frame format!\n",
    "print(\"Observations will be  framse: colored images of 240x256 pixels through 3 channels:\", env.observation_space.shape)\n",
    "# Again, we only have 7 actions to perform.\n",
    "print(\"How many actions?\", env.action_space)\n",
    "#Which ones?\n",
    "print(\"Simple movement actions list:\", SIMPLE_MOVEMENT)\n",
    "# We can take a random action from the actions space -> the number will be the SIMPLE_MOVEMENT index!\n",
    "rnd = env.action_space.sample()\n",
    "print(\"Random action index:\", rnd)\n",
    "print(\"Random action:\", SIMPLE_MOVEMENT[rnd])\n"
   ]
  },
  {
   "cell_type": "code",
   "execution_count": 4,
   "metadata": {},
   "outputs": [
    {
     "name": "stdout",
     "output_type": "stream",
     "text": [
      "Each step returns 4 things\n"
     ]
    }
   ],
   "source": [
    "# How does python play? Through steps: performing actions. \n",
    "# Let's say that we want to go right. What do we get back?\n",
    "env.reset()\n",
    "print(\"Each step returns\",len(env.step(1)), \"things\")\n"
   ]
  },
  {
   "cell_type": "code",
   "execution_count": 5,
   "metadata": {},
   "outputs": [
    {
     "name": "stdout",
     "output_type": "stream",
     "text": [
      "[[[104 136 252]\n",
      "  [104 136 252]\n",
      "  [104 136 252]\n",
      "  ...\n",
      "  [104 136 252]\n",
      "  [104 136 252]\n",
      "  [104 136 252]]\n",
      "\n",
      " [[104 136 252]\n",
      "  [104 136 252]\n",
      "  [104 136 252]\n",
      "  ...\n",
      "  [104 136 252]\n",
      "  [104 136 252]\n",
      "  [104 136 252]]\n",
      "\n",
      " [[104 136 252]\n",
      "  [104 136 252]\n",
      "  [104 136 252]\n",
      "  ...\n",
      "  [104 136 252]\n",
      "  [104 136 252]\n",
      "  [104 136 252]]\n",
      "\n",
      " ...\n",
      "\n",
      " [[240 208 176]\n",
      "  [228  92  16]\n",
      "  [228  92  16]\n",
      "  ...\n",
      "  [228  92  16]\n",
      "  [228  92  16]\n",
      "  [  0   0   0]]\n",
      "\n",
      " [[240 208 176]\n",
      "  [228  92  16]\n",
      "  [228  92  16]\n",
      "  ...\n",
      "  [228  92  16]\n",
      "  [  0   0   0]\n",
      "  [  0   0   0]]\n",
      "\n",
      " [[228  92  16]\n",
      "  [  0   0   0]\n",
      "  [  0   0   0]\n",
      "  ...\n",
      "  [  0   0   0]\n",
      "  [  0   0   0]\n",
      "  [228  92  16]]]\n"
     ]
    }
   ],
   "source": [
    "# The first one is the state. The frame after the action is performed. We will use these frames in order to let the AI improve\n",
    "state = env.step(1)[0]\n",
    "print(state)"
   ]
  },
  {
   "cell_type": "code",
   "execution_count": 6,
   "metadata": {},
   "outputs": [
    {
     "name": "stdout",
     "output_type": "stream",
     "text": [
      "0\n"
     ]
    }
   ],
   "source": [
    "# The second one is the reward. The reward is what the AI will try to maximize!\n",
    "reward = env.step(1)[1]\n",
    "print(reward)"
   ]
  },
  {
   "cell_type": "code",
   "execution_count": 7,
   "metadata": {},
   "outputs": [
    {
     "name": "stdout",
     "output_type": "stream",
     "text": [
      "False\n"
     ]
    }
   ],
   "source": [
    "# The third thing is a boolean. If it is True, we have to restart the game (we are dead, the game is done)\n",
    "restart = env.step(1)[2]\n",
    "print(restart)"
   ]
  },
  {
   "cell_type": "code",
   "execution_count": 8,
   "metadata": {},
   "outputs": [
    {
     "name": "stdout",
     "output_type": "stream",
     "text": [
      "{'coins': 0, 'flag_get': False, 'life': 2, 'score': 0, 'stage': 1, 'status': 'small', 'time': 400, 'world': 1, 'x_pos': 40, 'x_pos_screen': 40, 'y_pos': 79}\n"
     ]
    }
   ],
   "source": [
    "# The last value is some generic information about the game.\n",
    "info = env.step(1)[3]\n",
    "print(info)"
   ]
  },
  {
   "cell_type": "markdown",
   "metadata": {},
   "source": [
    "### Let python play the game!\n",
    "\n",
    "What we want to do now, is to complete the setup operation with a very basic instance of the game. We will perform random actions for 100000 frames (and so 100000 random actions). Of course, we do not expect to get interesting results, but just to let python play Mario for the first time."
   ]
  },
  {
   "cell_type": "code",
   "execution_count": null,
   "metadata": {
    "tags": []
   },
   "outputs": [],
   "source": [
    "# boolean: if true let's restart the game.\n",
    "restart = True\n",
    "# Loop through each frame in the game (100000 is a big enough number)\n",
    "for step in range(100000): \n",
    "    # Restart (of start if it is the first time) the game\n",
    "    if restart: \n",
    "        # Restart the gamee\n",
    "        env.reset()\n",
    "    # Do a random action\n",
    "    state, reward, restart, info = env.step(env.action_space.sample())\n",
    "    # Show the game on the screen\n",
    "    env.render()\n",
    "# Close the game\n",
    "env.close()"
   ]
  },
  {
   "cell_type": "markdown",
   "metadata": {},
   "source": [
    "# 2. Preprocessing before training"
   ]
  },
  {
   "cell_type": "markdown",
   "metadata": {},
   "source": [
    "### Some information\n",
    "Preprocessing the game allows the AI to work on beter/easier data. There are a couple of things that we can do:\n",
    "- We already simplified the controls.\n",
    "- GrayScaleObservation: to convert our version of the game to a gray-scaled one. This is very important, since colored images are much harder to elaborate and provide no additional information anyway. \n",
    "- VecFrameStack: interesting module that allows us and our AI to actually \"stack\" different frames during the gameplay. This means that we will be able to see interesting frames.\n",
    "- DummyVecEnv: it simply wraps our environment with a vectorized version of it. We need this step in order to be able to let the AI work on the environment and also to stack frames\n",
    "- Pyplot: we will use it to show some frames of the game.\n"
   ]
  },
  {
   "cell_type": "code",
   "execution_count": 9,
   "metadata": {},
   "outputs": [],
   "source": [
    "# Recreate the base environment and simplify the controls \n",
    "env = gym_super_mario_bros.make('SuperMarioBros-v0') \n",
    "env = JoypadSpace(env, SIMPLE_MOVEMENT)"
   ]
  },
  {
   "cell_type": "code",
   "execution_count": 10,
   "metadata": {},
   "outputs": [
    {
     "name": "stdout",
     "output_type": "stream",
     "text": [
      "(240, 256, 3)\n"
     ]
    },
    {
     "data": {
      "text/plain": [
       "<matplotlib.image.AxesImage at 0x254174900d0>"
      ]
     },
     "execution_count": 10,
     "metadata": {},
     "output_type": "execute_result"
    },
    {
     "data": {
      "image/png": "[encoded data removed]",
      "text/plain": [
       "<Figure size 432x288 with 1 Axes>"
      ]
     },
     "metadata": {
      "needs_background": "light"
     },
     "output_type": "display_data"
    }
   ],
   "source": [
    "# Before Grayscaling\n",
    "state = env.reset()\n",
    "old = state.shape\n",
    "print(old)\n",
    "plt.imshow(state)"
   ]
  },
  {
   "cell_type": "code",
   "execution_count": 11,
   "metadata": {},
   "outputs": [
    {
     "name": "stdout",
     "output_type": "stream",
     "text": [
      "SuperMarioBros-v0\n",
      "(240, 256, 1)\n",
      "For each single frame we reduced information to process, from 184320 to 61440\n"
     ]
    },
    {
     "data": {
      "image/png": "[encoded data removed]",
      "text/plain": [
       "<Figure size 432x288 with 1 Axes>"
      ]
     },
     "metadata": {
      "needs_background": "light"
     },
     "output_type": "display_data"
    }
   ],
   "source": [
    "# Grayscaling\n",
    "env = GrayScaleObservation(env, keep_dim=True) #we turn (240,256,3) into (240,256,1) --> without keep_dip=True we'd get (240,256) and we would not be able to work on frames!!\n",
    "# After Grayscaling\n",
    "id = env.unwrapped.spec.id\n",
    "print(id)\n",
    "state = env.reset()\n",
    "new = state.shape\n",
    "print(new)\n",
    "plt.imshow(state)\n",
    "print(\"For each single frame we reduced information to process, from\",old[0]*old[1]*old[2], \"to\", new[0]*new[1]*new[2])"
   ]
  },
  {
   "cell_type": "code",
   "execution_count": 12,
   "metadata": {},
   "outputs": [
    {
     "name": "stdout",
     "output_type": "stream",
     "text": [
      "We now get our frame inside of 4 parallel vectorized environments (1, 240, 256, 1)\n"
     ]
    },
    {
     "data": {
      "text/plain": [
       "<matplotlib.image.AxesImage at 0x254195eacd0>"
      ]
     },
     "execution_count": 12,
     "metadata": {},
     "output_type": "execute_result"
    },
    {
     "data": {
      "image/png": "[encoded data removed]",
      "text/plain": [
       "<Figure size 432x288 with 1 Axes>"
      ]
     },
     "metadata": {
      "needs_background": "light"
     },
     "output_type": "display_data"
    }
   ],
   "source": [
    "# Wrap inside the Vectorized Environment\n",
    "env = DummyVecEnv([lambda: env])\n",
    "state = env.reset()\n",
    "print(\"We now get our frame inside of 4 parallel vectorized environments\",state.shape)\n",
    "plt.imshow(state[0])"
   ]
  },
  {
   "cell_type": "code",
   "execution_count": 13,
   "metadata": {},
   "outputs": [
    {
     "name": "stdout",
     "output_type": "stream",
     "text": [
      "We now have 4 different frames stacked, so what we get is:  (1, 240, 256, 4)\n"
     ]
    }
   ],
   "source": [
    "# Stack the frames\n",
    "\n",
    "env = VecFrameStack(env, 4, channels_order='last') #we stack 4 frames from our vectorized and grayscaled environment and we also specify that the channel order is the last element of the state --> (1, 240, 256, 1) it is the last one\n",
    "state = env.reset()\n",
    "print(\"We now have 4 different frames stacked, so what we get is: \",state.shape)"
   ]
  },
  {
   "cell_type": "code",
   "execution_count": 14,
   "metadata": {},
   "outputs": [],
   "source": [
    "# In order to have 4 frames, we need to perform 4 steps (remember, one step for each frame!). Let's tell Mario to do nothing 3 times (so we get starting frames + 3 frames)\n",
    "state = env.reset()\n",
    "env.step([0])\n",
    "env.step([0])\n",
    "state, reward, restart, info = env.step([0])"
   ]
  },
  {
   "cell_type": "code",
   "execution_count": 15,
   "metadata": {},
   "outputs": [
    {
     "data": {
      "image/png": "[encoded data removed]",
      "text/plain": [
       "<Figure size 1440x1152 with 4 Axes>"
      ]
     },
     "metadata": {
      "needs_background": "light"
     },
     "output_type": "display_data"
    },
    {
     "data": {
      "text/plain": [
       "array([[[[  0,   0,   0, 140],\n",
       "         [  0,   0,   0, 140],\n",
       "         [  0,   0,   0, 140],\n",
       "         ...,\n",
       "         [  0,   0,   0, 140],\n",
       "         [  0,   0,   0, 140],\n",
       "         [  0,   0,   0, 140]],\n",
       "\n",
       "        [[  0,   0,   0, 140],\n",
       "         [  0,   0,   0, 140],\n",
       "         [  0,   0,   0, 140],\n",
       "         ...,\n",
       "         [  0,   0,   0, 140],\n",
       "         [  0,   0,   0, 140],\n",
       "         [  0,   0,   0, 140]],\n",
       "\n",
       "        [[  0,   0,   0, 140],\n",
       "         [  0,   0,   0, 140],\n",
       "         [  0,   0,   0, 140],\n",
       "         ...,\n",
       "         [  0,   0,   0, 140],\n",
       "         [  0,   0,   0, 140],\n",
       "         [  0,   0,   0, 140]],\n",
       "\n",
       "        ...,\n",
       "\n",
       "        [[  0,   0,   0, 214],\n",
       "         [  0,   0,   0, 124],\n",
       "         [  0,   0,   0, 124],\n",
       "         ...,\n",
       "         [  0,   0,   0, 124],\n",
       "         [  0,   0,   0, 124],\n",
       "         [  0,   0,   0,   0]],\n",
       "\n",
       "        [[  0,   0,   0, 214],\n",
       "         [  0,   0,   0, 124],\n",
       "         [  0,   0,   0, 124],\n",
       "         ...,\n",
       "         [  0,   0,   0, 124],\n",
       "         [  0,   0,   0,   0],\n",
       "         [  0,   0,   0,   0]],\n",
       "\n",
       "        [[  0,   0,   0, 124],\n",
       "         [  0,   0,   0,   0],\n",
       "         [  0,   0,   0,   0],\n",
       "         ...,\n",
       "         [  0,   0,   0,   0],\n",
       "         [  0,   0,   0,   0],\n",
       "         [  0,   0,   0, 124]]]], dtype=uint8)"
      ]
     },
     "execution_count": 15,
     "metadata": {},
     "output_type": "execute_result"
    }
   ],
   "source": [
    "#let's plot using the last state (which will contain its frame but also the 3 previous stacked ones)\n",
    "plt.figure(figsize=(20,16))\n",
    "for idx in range(state.shape[3]):\n",
    "    plt.subplot(1,4,idx+1)\n",
    "    plt.imshow(state[0][:,:,idx])\n",
    "plt.show()\n",
    "#this way, we provided our AI with some sort of memory!\n",
    "\n",
    "env.reset()"
   ]
  },
  {
   "cell_type": "markdown",
   "metadata": {},
   "source": [
    "# 3. Train the RL Model"
   ]
  },
  {
   "cell_type": "code",
   "execution_count": 20,
   "metadata": {
    "jupyter": {
     "source_hidden": true
    },
    "tags": []
   },
   "outputs": [],
   "source": [
    "# This class is a standard Blueprint for training and also saving models, that can be used with any ML algorithm in stable_baselines3!\n",
    "\n",
    "class TrainAndLoggingCallback(BaseCallback): #It is a child class of the generic BaseCallback parent class\n",
    "\n",
    "    def __init__(self, check_freq, save_path, verbose=1):\n",
    "        super(TrainAndLoggingCallback, self).__init__(verbose)\n",
    "        self.check_freq = check_freq #how frequently we want to save our model\n",
    "        self.save_path = save_path #where do we want to save our model\n",
    "\n",
    "    def _init_callback(self): #check if models directory exists and create it\n",
    "        if self.save_path is not None:\n",
    "            os.makedirs(self.save_path, exist_ok=True)\n",
    "\n",
    "    def _on_step(self): #each step check if we are multiple of the desired frequency --> if so, save model \n",
    "        if self.n_calls % self.check_freq == 0:\n",
    "            model_path = os.path.join(self.save_path, 'best_model_{}'.format(self.n_calls))\n",
    "            self.model.save(model_path)\n",
    "\n",
    "        return True"
   ]
  },
  {
   "cell_type": "code",
   "execution_count": 21,
   "metadata": {},
   "outputs": [],
   "source": [
    "#Define directories to save models and logs\n",
    "CHECKPOINT_DIR = './train/'\n",
    "LOG_DIR = './logs/'"
   ]
  },
  {
   "cell_type": "code",
   "execution_count": 22,
   "metadata": {
    "jupyter": {
     "source_hidden": true
    },
    "tags": []
   },
   "outputs": [],
   "source": [
    "# Setup the callback with desired frequency and save_path\n",
    "callback = TrainAndLoggingCallback(check_freq=100000, save_path=CHECKPOINT_DIR)"
   ]
  },
  {
   "cell_type": "code",
   "execution_count": 23,
   "metadata": {},
   "outputs": [
    {
     "name": "stdout",
     "output_type": "stream",
     "text": [
      "Using cuda device\n",
      "Wrapping the env in a VecTransposeImage.\n"
     ]
    }
   ],
   "source": [
    "# Finally create the PPO AI Model!\n",
    "#https://stable-baselines3.readthedocs.io/en/master/guide/custom_policy.html\n",
    "#https://stable-baselines3.readthedocs.io/en/master/modules/ppo.html\n",
    "#CNNPolicy is the reccomendere feature extraction policy to feed the neural network with data extracted from images\n",
    "#model = algorithm(policy, (gym) environment, verbose (if 1, we get lot of info during training), log directory, learning rate, number of steps (frames) for each neural network update)\n",
    "model = PPO('CnnPolicy', env, verbose=1, tensorboard_log=LOG_DIR, learning_rate=0.000001 , n_steps=512) "
   ]
  },
  {
   "cell_type": "code",
   "execution_count": null,
   "metadata": {
    "tags": []
   },
   "outputs": [],
   "source": [
    "# Train the AI model\n",
    "model.learn(total_timesteps=1000000, callback=callback)"
   ]
  },
  {
   "cell_type": "markdown",
   "metadata": {},
   "source": [
    "# 4. Test it Out"
   ]
  },
  {
   "cell_type": "code",
   "execution_count": 26,
   "metadata": {},
   "outputs": [],
   "source": [
    "# Load model\n",
    "model = PPO.load('./train/best_model_1000000')"
   ]
  },
  {
   "cell_type": "code",
   "execution_count": 27,
   "metadata": {},
   "outputs": [],
   "source": [
    "state = env.reset()"
   ]
  },
  {
   "cell_type": "code",
   "execution_count": null,
   "metadata": {},
   "outputs": [],
   "source": [
    "# Start the game \n",
    "state = env.reset()\n",
    "# Loop through the game\n",
    "while True: \n",
    "    \n",
    "    action, _ = model.predict(state)\n",
    "    state, reward, done, info = env.step(action)\n",
    "    env.render()"
   ]
  }
 ],
 "metadata": {
  "interpreter": {
   "hash": "35c4bcfff6bb594ff47b51ce5b21bcb1093d06fa0c5debe7002e3be5d50f4cc1"
  },
  "kernelspec": {
   "display_name": "mario",
   "language": "python",
   "name": "python3"
  },
  "language_info": {
   "codemirror_mode": {
    "name": "ipython",
    "version": 3
   },
   "file_extension": ".py",
   "mimetype": "text/x-python",
   "name": "python",
   "nbconvert_exporter": "python",
   "pygments_lexer": "ipython3",
   "version": "3.9.10"
  }
 },
 "nbformat": 4,
 "nbformat_minor": 4
}
